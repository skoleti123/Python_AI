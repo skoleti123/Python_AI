{
  "nbformat": 4,
  "nbformat_minor": 0,
  "metadata": {
    "colab": {
      "provenance": [],
      "include_colab_link": true
    },
    "kernelspec": {
      "name": "python3",
      "display_name": "Python 3"
    },
    "language_info": {
      "name": "python"
    }
  },
  "cells": [
    {
      "cell_type": "markdown",
      "metadata": {
        "id": "view-in-github",
        "colab_type": "text"
      },
      "source": [
        "<a href=\"https://colab.research.google.com/github/skoleti123/Python_AI/blob/main/AIET_GMM_Latent_Variable_Models_29_12_2024.ipynb\" target=\"_parent\"><img src=\"https://colab.research.google.com/assets/colab-badge.svg\" alt=\"Open In Colab\"/></a>"
      ]
    },
    {
      "cell_type": "markdown",
      "metadata": {
        "id": "wVmT47LOBy6i"
      },
      "source": [
        "<center> <h1> <b> AIET Tutorial on GMM and Latent variable models </b> </h1> </center>\n",
        "\n",
        "<dt> <h4> <b> Introduction </b> </dt> </h4>\n",
        "\n",
        "Welcome to the tutorial on GMM and latent variable models. This tutorial is broadly classified into two parts. The first part of the tutorial focuses on coding the Expectation and Maximization (EM) algorithm to fit the GMM for synthetic data in low dimensional space (2D space). The second part aims to build the Automatic Speaker Verification (ASV) system using GMM models.\n",
        "\n",
        "\n",
        "\n"
      ]
    },
    {
      "cell_type": "markdown",
      "source": [
        "<dt> <h4> <b> 1). Gaussian distribution - Single variable distribution </b>  </h4> </dt>\n",
        "\n",
        "<dt> <h4> <center> $ p(x) \\sim \\mathcal{N}(\\mu,\\sigma^{2}) = \\frac{1}{\\sigma\\sqrt{2\\pi}}  e^{-\\frac{1}{2} \\frac{(x-\\mu)^{2}}{\\sigma^{2}}} $ </center>  </h4> </dd>\n",
        "\n",
        "<dd> <h4> - Estimate the parameters of model from the observed data   </h4> </dd>\n",
        "\n",
        "<dt> <h4> <center> $ \\mu = \\frac{1}{N}\\sum_{i=1}^{N}x_{i} $ </center>  </h4> </dd>\n",
        "<dt> <h4> <center> $ \\sigma^{2} = \\frac{1}{N}\\sum_{i=1}^{N} (x_{i} - \\mu)^{2} $ </center>  </h4> </dd>\n",
        "\n",
        "<dt> <h4> <b> 2). Gaussian distribution - Multi variable distribution </b>  </h4> </dt>\n",
        "\n",
        "<dt> <h4> <center> $ p(\\textbf{x}) \\sim \\mathcal{N}(\\boldsymbol\\mu,\\boldsymbol\\Sigma) = \\frac{1}{(2\\pi)^{\\frac{D}{2}} |\\boldsymbol\\Sigma|^{\\frac{1}{2}}}  e^{-\\frac{1}{2} (\\textbf{x}-\\boldsymbol\\mu)^{T}\\boldsymbol\\Sigma^{-1}(\\textbf{x}-\\boldsymbol\\mu)} $ </center>  </h4> </dd>\n",
        "\n",
        "\n",
        "\n",
        "<dd> <h4> - Estimate the parameters of model from the observed data   </h4> </dd>\n",
        "\n",
        "<dt> <h4> <center> $ \\boldsymbol\\mu = \\frac{1}{N}\\sum_{i=1}^{N}x_{i} $ </center>  </h4> </dd>\n",
        "<dt> <h4> <center> $ \\boldsymbol\\Sigma = \\frac{1}{N}\\sum_{i=1}^{N} (\\textbf{x}_{i} - \\boldsymbol\\mu) (\\textbf{x}_{i} - \\boldsymbol\\mu)^{T} $ </center>  </h4> </dd>\n"
      ],
      "metadata": {
        "id": "Ez4oAqxUd85P"
      }
    },
    {
      "cell_type": "code",
      "source": [
        "import numpy as np\n",
        "import matplotlib.pyplot as plt"
      ],
      "metadata": {
        "id": "yECspBk15nPB"
      },
      "execution_count": null,
      "outputs": []
    },
    {
      "cell_type": "code",
      "source": [],
      "metadata": {
        "id": "0OW63zoC5pNV"
      },
      "execution_count": null,
      "outputs": []
    }
  ]
}