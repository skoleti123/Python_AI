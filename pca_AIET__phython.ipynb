{
  "nbformat": 4,
  "nbformat_minor": 0,
  "metadata": {
    "colab": {
      "provenance": [],
      "include_colab_link": true
    },
    "language_info": {
      "codemirror_mode": {
        "name": "ipython",
        "version": 3
      },
      "file_extension": ".py",
      "mimetype": "text/x-python",
      "name": "python",
      "nbconvert_exporter": "python",
      "pygments_lexer": "ipython3",
      "version": "3.6.7"
    },
    "kernelspec": {
      "display_name": "Python 3",
      "language": "python",
      "name": "python3"
    }
  },
  "cells": [
    {
      "cell_type": "markdown",
      "metadata": {
        "id": "view-in-github",
        "colab_type": "text"
      },
      "source": [
        "<a href=\"https://colab.research.google.com/github/skoleti123/Python_AI/blob/main/pca_AIET__phython.ipynb\" target=\"_parent\"><img src=\"https://colab.research.google.com/assets/colab-badge.svg\" alt=\"Open In Colab\"/></a>"
      ]
    },
    {
      "cell_type": "markdown",
      "metadata": {
        "id": "M3rT_e3F0VmZ"
      },
      "source": [
        "#Principal Component Analysis :\n",
        "\n",
        "##PCA reduces the number of features of a data set, while preserving as much information as possible\n",
        "\n"
      ]
    },
    {
      "cell_type": "markdown",
      "metadata": {
        "id": "b6AVOSP37u0I"
      },
      "source": [
        "## IMPORT THE DATA"
      ]
    },
    {
      "cell_type": "code",
      "metadata": {
        "id": "hz3j12_DnPAp",
        "colab": {
          "base_uri": "https://localhost:8080/"
        },
        "outputId": "c256147a-7768-4e00-ae6b-9fa264d23ae8"
      },
      "source": [
        "import numpy as np\n",
        "import pandas as pd\n",
        "import matplotlib.pyplot as plt\n",
        "\n",
        "\n",
        "#from sklearn import datasets\n",
        "#iris = datasets.load_iris()\n",
        "#X = iris['data']\n",
        "#y = iris['target']\n",
        "#print(X)\n",
        "#print(y)\n",
        "#iris.feature_names\n",
        "#iris.target_names\n",
        "\n",
        "dataSet = pd.read_csv(r\"https://archive.ics.uci.edu/ml/machine-learning-databases/iris/iris.data\",header=None)\n",
        "dataSet02 = pd.DataFrame.to_numpy(dataSet)\n",
        "\n",
        "labels = np.unique(dataSet02[:,4])\n",
        "\n",
        "\n",
        "print(dataSet02)\n",
        "#print(labels)\n",
        "#print(np.shape(dataSet02))\n"
      ],
      "execution_count": 10,
      "outputs": [
        {
          "output_type": "stream",
          "name": "stdout",
          "text": [
            "[[5.1 3.5 1.4 0.2 'Iris-setosa']\n",
            " [4.9 3.0 1.4 0.2 'Iris-setosa']\n",
            " [4.7 3.2 1.3 0.2 'Iris-setosa']\n",
            " [4.6 3.1 1.5 0.2 'Iris-setosa']\n",
            " [5.0 3.6 1.4 0.2 'Iris-setosa']\n",
            " [5.4 3.9 1.7 0.4 'Iris-setosa']\n",
            " [4.6 3.4 1.4 0.3 'Iris-setosa']\n",
            " [5.0 3.4 1.5 0.2 'Iris-setosa']\n",
            " [4.4 2.9 1.4 0.2 'Iris-setosa']\n",
            " [4.9 3.1 1.5 0.1 'Iris-setosa']\n",
            " [5.4 3.7 1.5 0.2 'Iris-setosa']\n",
            " [4.8 3.4 1.6 0.2 'Iris-setosa']\n",
            " [4.8 3.0 1.4 0.1 'Iris-setosa']\n",
            " [4.3 3.0 1.1 0.1 'Iris-setosa']\n",
            " [5.8 4.0 1.2 0.2 'Iris-setosa']\n",
            " [5.7 4.4 1.5 0.4 'Iris-setosa']\n",
            " [5.4 3.9 1.3 0.4 'Iris-setosa']\n",
            " [5.1 3.5 1.4 0.3 'Iris-setosa']\n",
            " [5.7 3.8 1.7 0.3 'Iris-setosa']\n",
            " [5.1 3.8 1.5 0.3 'Iris-setosa']\n",
            " [5.4 3.4 1.7 0.2 'Iris-setosa']\n",
            " [5.1 3.7 1.5 0.4 'Iris-setosa']\n",
            " [4.6 3.6 1.0 0.2 'Iris-setosa']\n",
            " [5.1 3.3 1.7 0.5 'Iris-setosa']\n",
            " [4.8 3.4 1.9 0.2 'Iris-setosa']\n",
            " [5.0 3.0 1.6 0.2 'Iris-setosa']\n",
            " [5.0 3.4 1.6 0.4 'Iris-setosa']\n",
            " [5.2 3.5 1.5 0.2 'Iris-setosa']\n",
            " [5.2 3.4 1.4 0.2 'Iris-setosa']\n",
            " [4.7 3.2 1.6 0.2 'Iris-setosa']\n",
            " [4.8 3.1 1.6 0.2 'Iris-setosa']\n",
            " [5.4 3.4 1.5 0.4 'Iris-setosa']\n",
            " [5.2 4.1 1.5 0.1 'Iris-setosa']\n",
            " [5.5 4.2 1.4 0.2 'Iris-setosa']\n",
            " [4.9 3.1 1.5 0.1 'Iris-setosa']\n",
            " [5.0 3.2 1.2 0.2 'Iris-setosa']\n",
            " [5.5 3.5 1.3 0.2 'Iris-setosa']\n",
            " [4.9 3.1 1.5 0.1 'Iris-setosa']\n",
            " [4.4 3.0 1.3 0.2 'Iris-setosa']\n",
            " [5.1 3.4 1.5 0.2 'Iris-setosa']\n",
            " [5.0 3.5 1.3 0.3 'Iris-setosa']\n",
            " [4.5 2.3 1.3 0.3 'Iris-setosa']\n",
            " [4.4 3.2 1.3 0.2 'Iris-setosa']\n",
            " [5.0 3.5 1.6 0.6 'Iris-setosa']\n",
            " [5.1 3.8 1.9 0.4 'Iris-setosa']\n",
            " [4.8 3.0 1.4 0.3 'Iris-setosa']\n",
            " [5.1 3.8 1.6 0.2 'Iris-setosa']\n",
            " [4.6 3.2 1.4 0.2 'Iris-setosa']\n",
            " [5.3 3.7 1.5 0.2 'Iris-setosa']\n",
            " [5.0 3.3 1.4 0.2 'Iris-setosa']\n",
            " [7.0 3.2 4.7 1.4 'Iris-versicolor']\n",
            " [6.4 3.2 4.5 1.5 'Iris-versicolor']\n",
            " [6.9 3.1 4.9 1.5 'Iris-versicolor']\n",
            " [5.5 2.3 4.0 1.3 'Iris-versicolor']\n",
            " [6.5 2.8 4.6 1.5 'Iris-versicolor']\n",
            " [5.7 2.8 4.5 1.3 'Iris-versicolor']\n",
            " [6.3 3.3 4.7 1.6 'Iris-versicolor']\n",
            " [4.9 2.4 3.3 1.0 'Iris-versicolor']\n",
            " [6.6 2.9 4.6 1.3 'Iris-versicolor']\n",
            " [5.2 2.7 3.9 1.4 'Iris-versicolor']\n",
            " [5.0 2.0 3.5 1.0 'Iris-versicolor']\n",
            " [5.9 3.0 4.2 1.5 'Iris-versicolor']\n",
            " [6.0 2.2 4.0 1.0 'Iris-versicolor']\n",
            " [6.1 2.9 4.7 1.4 'Iris-versicolor']\n",
            " [5.6 2.9 3.6 1.3 'Iris-versicolor']\n",
            " [6.7 3.1 4.4 1.4 'Iris-versicolor']\n",
            " [5.6 3.0 4.5 1.5 'Iris-versicolor']\n",
            " [5.8 2.7 4.1 1.0 'Iris-versicolor']\n",
            " [6.2 2.2 4.5 1.5 'Iris-versicolor']\n",
            " [5.6 2.5 3.9 1.1 'Iris-versicolor']\n",
            " [5.9 3.2 4.8 1.8 'Iris-versicolor']\n",
            " [6.1 2.8 4.0 1.3 'Iris-versicolor']\n",
            " [6.3 2.5 4.9 1.5 'Iris-versicolor']\n",
            " [6.1 2.8 4.7 1.2 'Iris-versicolor']\n",
            " [6.4 2.9 4.3 1.3 'Iris-versicolor']\n",
            " [6.6 3.0 4.4 1.4 'Iris-versicolor']\n",
            " [6.8 2.8 4.8 1.4 'Iris-versicolor']\n",
            " [6.7 3.0 5.0 1.7 'Iris-versicolor']\n",
            " [6.0 2.9 4.5 1.5 'Iris-versicolor']\n",
            " [5.7 2.6 3.5 1.0 'Iris-versicolor']\n",
            " [5.5 2.4 3.8 1.1 'Iris-versicolor']\n",
            " [5.5 2.4 3.7 1.0 'Iris-versicolor']\n",
            " [5.8 2.7 3.9 1.2 'Iris-versicolor']\n",
            " [6.0 2.7 5.1 1.6 'Iris-versicolor']\n",
            " [5.4 3.0 4.5 1.5 'Iris-versicolor']\n",
            " [6.0 3.4 4.5 1.6 'Iris-versicolor']\n",
            " [6.7 3.1 4.7 1.5 'Iris-versicolor']\n",
            " [6.3 2.3 4.4 1.3 'Iris-versicolor']\n",
            " [5.6 3.0 4.1 1.3 'Iris-versicolor']\n",
            " [5.5 2.5 4.0 1.3 'Iris-versicolor']\n",
            " [5.5 2.6 4.4 1.2 'Iris-versicolor']\n",
            " [6.1 3.0 4.6 1.4 'Iris-versicolor']\n",
            " [5.8 2.6 4.0 1.2 'Iris-versicolor']\n",
            " [5.0 2.3 3.3 1.0 'Iris-versicolor']\n",
            " [5.6 2.7 4.2 1.3 'Iris-versicolor']\n",
            " [5.7 3.0 4.2 1.2 'Iris-versicolor']\n",
            " [5.7 2.9 4.2 1.3 'Iris-versicolor']\n",
            " [6.2 2.9 4.3 1.3 'Iris-versicolor']\n",
            " [5.1 2.5 3.0 1.1 'Iris-versicolor']\n",
            " [5.7 2.8 4.1 1.3 'Iris-versicolor']\n",
            " [6.3 3.3 6.0 2.5 'Iris-virginica']\n",
            " [5.8 2.7 5.1 1.9 'Iris-virginica']\n",
            " [7.1 3.0 5.9 2.1 'Iris-virginica']\n",
            " [6.3 2.9 5.6 1.8 'Iris-virginica']\n",
            " [6.5 3.0 5.8 2.2 'Iris-virginica']\n",
            " [7.6 3.0 6.6 2.1 'Iris-virginica']\n",
            " [4.9 2.5 4.5 1.7 'Iris-virginica']\n",
            " [7.3 2.9 6.3 1.8 'Iris-virginica']\n",
            " [6.7 2.5 5.8 1.8 'Iris-virginica']\n",
            " [7.2 3.6 6.1 2.5 'Iris-virginica']\n",
            " [6.5 3.2 5.1 2.0 'Iris-virginica']\n",
            " [6.4 2.7 5.3 1.9 'Iris-virginica']\n",
            " [6.8 3.0 5.5 2.1 'Iris-virginica']\n",
            " [5.7 2.5 5.0 2.0 'Iris-virginica']\n",
            " [5.8 2.8 5.1 2.4 'Iris-virginica']\n",
            " [6.4 3.2 5.3 2.3 'Iris-virginica']\n",
            " [6.5 3.0 5.5 1.8 'Iris-virginica']\n",
            " [7.7 3.8 6.7 2.2 'Iris-virginica']\n",
            " [7.7 2.6 6.9 2.3 'Iris-virginica']\n",
            " [6.0 2.2 5.0 1.5 'Iris-virginica']\n",
            " [6.9 3.2 5.7 2.3 'Iris-virginica']\n",
            " [5.6 2.8 4.9 2.0 'Iris-virginica']\n",
            " [7.7 2.8 6.7 2.0 'Iris-virginica']\n",
            " [6.3 2.7 4.9 1.8 'Iris-virginica']\n",
            " [6.7 3.3 5.7 2.1 'Iris-virginica']\n",
            " [7.2 3.2 6.0 1.8 'Iris-virginica']\n",
            " [6.2 2.8 4.8 1.8 'Iris-virginica']\n",
            " [6.1 3.0 4.9 1.8 'Iris-virginica']\n",
            " [6.4 2.8 5.6 2.1 'Iris-virginica']\n",
            " [7.2 3.0 5.8 1.6 'Iris-virginica']\n",
            " [7.4 2.8 6.1 1.9 'Iris-virginica']\n",
            " [7.9 3.8 6.4 2.0 'Iris-virginica']\n",
            " [6.4 2.8 5.6 2.2 'Iris-virginica']\n",
            " [6.3 2.8 5.1 1.5 'Iris-virginica']\n",
            " [6.1 2.6 5.6 1.4 'Iris-virginica']\n",
            " [7.7 3.0 6.1 2.3 'Iris-virginica']\n",
            " [6.3 3.4 5.6 2.4 'Iris-virginica']\n",
            " [6.4 3.1 5.5 1.8 'Iris-virginica']\n",
            " [6.0 3.0 4.8 1.8 'Iris-virginica']\n",
            " [6.9 3.1 5.4 2.1 'Iris-virginica']\n",
            " [6.7 3.1 5.6 2.4 'Iris-virginica']\n",
            " [6.9 3.1 5.1 2.3 'Iris-virginica']\n",
            " [5.8 2.7 5.1 1.9 'Iris-virginica']\n",
            " [6.8 3.2 5.9 2.3 'Iris-virginica']\n",
            " [6.7 3.3 5.7 2.5 'Iris-virginica']\n",
            " [6.7 3.0 5.2 2.3 'Iris-virginica']\n",
            " [6.3 2.5 5.0 1.9 'Iris-virginica']\n",
            " [6.5 3.0 5.2 2.0 'Iris-virginica']\n",
            " [6.2 3.4 5.4 2.3 'Iris-virginica']\n",
            " [5.9 3.0 5.1 1.8 'Iris-virginica']]\n"
          ]
        }
      ]
    },
    {
      "cell_type": "code",
      "source": [],
      "metadata": {
        "id": "aiI2QYMGAyvN"
      },
      "execution_count": null,
      "outputs": []
    },
    {
      "cell_type": "code",
      "source": [],
      "metadata": {
        "id": "TUhfiHz_AyuQ"
      },
      "execution_count": null,
      "outputs": []
    },
    {
      "cell_type": "markdown",
      "metadata": {
        "id": "2G-fkQcY_MW1"
      },
      "source": [
        "<a href=\"https://ibb.co/8sJhx0R\"><img src=\"https://i.ibb.co/h9kqdyn/iris.png\" alt=\"iris\" border=\"0\"></a>"
      ]
    },
    {
      "cell_type": "markdown",
      "metadata": {
        "id": "e0yJ49dN_MWt"
      },
      "source": [
        "<a href=\"https://imgbb.com/\"><img src=\"https://i.ibb.co/mDC1KSt/petal-sepal.png\" alt=\"petal-sepal\" border=\"0\"></a>"
      ]
    },
    {
      "cell_type": "markdown",
      "metadata": {
        "id": "3_Gow-muFr47"
      },
      "source": [
        "#PCA without using in-built function\n",
        "\n",
        "Steps involved \\\\\n",
        "(1) Compute the covariance matrix of the data(XX^T) \\\\\n",
        "(2) Compute the eigenvalues and eigenvectors of this covariance matrix  \\\\\n",
        "(3) Use the eigenvalues and eigenvectors to select only the most important feature vectors and then transform your data onto those vectors for reduced dimensionality!"
      ]
    },
    {
      "cell_type": "code",
      "metadata": {
        "id": "tBssVHrO_z0H",
        "colab": {
          "base_uri": "https://localhost:8080/",
          "height": 1000
        },
        "outputId": "0f4b0655-8906-48c8-f1d1-643e7a7675cd"
      },
      "source": [
        "\n",
        "import numpy as np\n",
        "from sklearn import datasets\n",
        "iris = datasets.load_iris()\n",
        "X = iris['data']\n",
        "y = iris['target']\n",
        "# Compute the mean of the data\n",
        "mean_vec = np.mean(X, axis=0)\n",
        "\n",
        "# Compute the covariance matrix\n",
        "cov_mat = (X - mean_vec).T.dot((X - mean_vec)) / (X.shape[0])\n",
        "\n",
        "\n",
        "# OR we can do this with one line of numpy:\n",
        "cov_mat = np.cov(X.T)\n",
        "eig_vals, eig_vecs = np.linalg.eig(cov_mat)\n",
        "\n",
        "# Make a list of (eigenvalue, eigenvector) tuples\n",
        "eig_pairs = [(np.abs(eig_vals[i]), eig_vecs[:,i]) for i in range(len(eig_vals))]\n",
        "\n",
        "# Sort the (eigenvalue, eigenvector) tuples from high to low\n",
        "eig_pairs.sort(key=lambda x: x[0], reverse=True)\n",
        "print(eig_pairs)\n",
        "\n",
        "num_features = X.shape[1]\n",
        "proj_mat = eig_pairs[0][1].reshape(num_features,1)\n",
        "num_vec_to_keep=2\n",
        "for eig_vec_idx in range(1, num_vec_to_keep):\n",
        "  proj_mat = np.hstack((proj_mat, eig_pairs[eig_vec_idx][1].reshape(num_features,1)))\n",
        "\n",
        "# Project the data\n",
        "pca_data = X.dot(proj_mat)\n",
        "\n",
        "print(pca_data)\n"
      ],
      "execution_count": null,
      "outputs": [
        {
          "output_type": "stream",
          "text": [
            "[(4.228241706034864, array([ 0.36138659, -0.08452251,  0.85667061,  0.3582892 ])), (0.24267074792863386, array([-0.65658877, -0.73016143,  0.17337266,  0.07548102])), (0.07820950004291899, array([-0.58202985,  0.59791083,  0.07623608,  0.54583143])), (0.02383509297345008, array([ 0.31548719, -0.3197231 , -0.47983899,  0.75365743]))]\n",
            "[[ 2.81823951 -5.64634982]\n",
            " [ 2.78822345 -5.14995135]\n",
            " [ 2.61337456 -5.18200315]\n",
            " [ 2.75702228 -5.0086536 ]\n",
            " [ 2.7736486  -5.65370709]\n",
            " [ 3.2215055  -6.06828303]\n",
            " [ 2.68182738 -5.23749119]\n",
            " [ 2.87622016 -5.49033754]\n",
            " [ 2.6159824  -4.74864082]\n",
            " [ 2.82960933 -5.21317833]\n",
            " [ 2.99541804 -5.97202148]\n",
            " [ 2.8896099  -5.34168252]\n",
            " [ 2.71625587 -5.09184058]\n",
            " [ 2.27856139 -4.81555799]\n",
            " [ 2.85761474 -6.50571721]\n",
            " [ 3.1163261  -6.66501491]\n",
            " [ 2.87883726 -6.13763209]\n",
            " [ 2.85406843 -5.63880172]\n",
            " [ 3.30254481 -6.19979162]\n",
            " [ 2.91437873 -5.84051289]\n",
            " [ 3.19210892 -5.71829851]\n",
            " [ 2.9586599  -5.75994864]\n",
            " [ 2.28642572 -5.46042065]\n",
            " [ 3.19963195 -5.42566143]\n",
            " [ 3.14661108 -5.28967072]\n",
            " [ 2.99569623 -5.1809357 ]\n",
            " [ 3.03354506 -5.45790407]\n",
            " [ 2.94004523 -5.69467143]\n",
            " [ 2.86283042 -5.63899256]\n",
            " [ 2.87037575 -5.12999135]\n",
            " [ 2.91496666 -5.12263409]\n",
            " [ 3.09243264 -5.73787684]\n",
            " [ 2.8535028  -6.1403164 ]\n",
            " [ 2.90362838 -6.42009834]\n",
            " [ 2.86543825 -5.20563023]\n",
            " [ 2.63612348 -5.39631705]\n",
            " [ 2.87712708 -5.9263226 ]\n",
            " [ 2.70168102 -5.59559631]\n",
            " [ 2.52186309 -4.83899423]\n",
            " [ 2.91235882 -5.55599641]\n",
            " [ 2.73226271 -5.59048011]\n",
            " [ 2.65299643 -4.385992  ]\n",
            " [ 2.50495859 -4.98502652]\n",
            " [ 3.09675065 -5.51582401]\n",
            " [ 3.29287589 -5.76361572]\n",
            " [ 2.78791371 -5.07674437]\n",
            " [ 2.96421687 -5.83072372]\n",
            " [ 2.66290296 -5.09900701]\n",
            " [ 2.95927938 -5.9063626 ]\n",
            " [ 2.79900535 -5.43465866]\n",
            " [ 6.78719082 -6.01211305]\n",
            " [ 6.43485366 -5.64528622]\n",
            " [ 6.96666745 -5.83121539]\n",
            " [ 5.68568285 -4.49899357]\n",
            " [ 6.59046839 -5.40154325]\n",
            " [ 6.14403422 -4.90870571]\n",
            " [ 6.5974258  -5.61042085]\n",
            " [ 4.75324246 -4.32206162]\n",
            " [ 6.54649696 -5.55531448]\n",
            " [ 5.49361973 -4.60387067]\n",
            " [ 4.99452425 -4.06098139]\n",
            " [ 6.01406369 -5.22297134]\n",
            " [ 5.76734164 -4.77691611]\n",
            " [ 6.48729964 -5.20213472]\n",
            " [ 5.32843976 -5.07209837]\n",
            " [ 6.43022591 -5.79413207]\n",
            " [ 6.16264889 -4.97398291]\n",
            " [ 5.73847013 -4.99334181]\n",
            " [ 6.44709886 -4.78380703]\n",
            " [ 5.54759211 -4.7431182 ]\n",
            " [ 6.61864831 -5.24233572]\n",
            " [ 5.86025355 -5.25802755]\n",
            " [ 6.80054901 -4.99916527]\n",
            " [ 6.42409406 -5.14421478]\n",
            " [ 6.21721846 -5.47600852]\n",
            " [ 6.40253951 -5.65545705]\n",
            " [ 6.83438957 -5.57139345]\n",
            " [ 7.06016729 -5.59444802]\n",
            " [ 6.31565578 -5.16360228]\n",
            " [ 5.19678135 -4.95869039]\n",
            " [ 5.43423864 -4.62178045]\n",
            " [ 5.31274266 -4.64666581]\n",
            " [ 5.63879384 -5.01292014]\n",
            " [ 6.88239157 -4.90599829]\n",
            " [ 6.09037158 -4.84266516]\n",
            " [ 6.30922345 -5.52113489]\n",
            " [ 6.72305602 -5.73457217]\n",
            " [ 6.31746037 -4.95491552]\n",
            " [ 5.74832281 -5.05842818]\n",
            " [ 5.66877835 -4.64502585]\n",
            " [ 5.96716542 -4.65624103]\n",
            " [ 6.39318033 -5.29248813]\n",
            " [ 5.73291316 -4.92256673]\n",
            " [ 4.79783337 -4.31470435]\n",
            " [ 5.85934663 -4.82204248]\n",
            " [ 5.83429961 -5.11429789]\n",
            " [ 5.87858078 -5.03373365]\n",
            " [ 6.14494114 -5.34469077]\n",
            " [ 4.59589527 -4.57085921]\n",
            " [ 5.80136597 -4.97805477]\n",
            " [ 8.03355786 -5.31710347]\n",
            " [ 6.91760101 -4.75203623]\n",
            " [ 8.11904115 -5.67085573]\n",
            " [ 7.47389619 -5.14722467]\n",
            " [ 7.85237105 -5.28669163]\n",
            " [ 8.89940387 -5.87778925]\n",
            " [ 6.02359738 -4.13419385]\n",
            " [ 8.4349522  -5.68245258]\n",
            " [ 7.82359395 -5.08312107]\n",
            " [ 8.4191161  -6.10974453]\n",
            " [ 7.16413929 -5.56918098]\n",
            " [ 7.30576709 -5.11131496]\n",
            " [ 7.66795693 -5.54322816]\n",
            " [ 6.84852871 -4.55013423]\n",
            " [ 7.08829336 -4.78731186]\n",
            " [ 7.40682151 -5.44620327]\n",
            " [ 7.45205419 -5.36889584]\n",
            " [ 8.9894205  -6.50269191]\n",
            " [ 9.29801055 -5.58427555]\n",
            " [ 6.80315685 -4.56580294]\n",
            " [ 7.93018305 -5.70514859]\n",
            " [ 6.70136624 -4.72086105]\n",
            " [ 9.00228517 -5.78762668]\n",
            " [ 6.89113126 -5.12255325]\n",
            " [ 7.77779564 -5.66194318]\n",
            " [ 8.11645561 -5.88785393]\n",
            " [ 6.76087329 -5.14724778]\n",
            " [ 6.79349719 -5.21028393]\n",
            " [ 7.62597386 -5.1172231 ]\n",
            " [ 7.89036815 -5.79159238]\n",
            " [ 8.34403791 -5.70222174]\n",
            " [ 8.73303879 -6.70111766]\n",
            " [ 7.66180278 -5.109675  ]\n",
            " [ 6.94652637 -5.18353917]\n",
            " [ 7.28365994 -4.8270509 ]\n",
            " [ 8.57886506 -6.01503825]\n",
            " [ 7.64660845 -5.46701678]\n",
            " [ 7.40746328 -5.3762531 ]\n",
            " [ 6.67169147 -5.16196231]\n",
            " [ 7.60997628 -5.69924045]\n",
            " [ 7.81651984 -5.51060386]\n",
            " [ 7.42463293 -5.73615604]\n",
            " [ 6.91760101 -4.75203623]\n",
            " [ 8.06537851 -5.60481518]\n",
            " [ 7.92111132 -5.63175077]\n",
            " [ 7.44647493 -5.51448488]\n",
            " [ 7.02953175 -4.95163559]\n",
            " [ 7.26671085 -5.40581143]\n",
            " [ 7.40330675 -5.44358054]\n",
            " [ 6.89255399 -5.04429164]]\n"
          ],
          "name": "stdout"
        }
      ]
    },
    {
      "cell_type": "markdown",
      "metadata": {
        "id": "e_L0wbKEnPAt"
      },
      "source": [
        "## Use in-built function PCA To Find 1 & 2nd Principal Components"
      ]
    },
    {
      "cell_type": "code",
      "metadata": {
        "id": "aXQhbYXAnPAu",
        "colab": {
          "base_uri": "https://localhost:8080/",
          "height": 1000
        },
        "outputId": "d48e3248-8745-4cc4-b3fd-77a26974257d"
      },
      "source": [
        "from sklearn.decomposition import PCA\n",
        "\n",
        "components = PCA(n_components=2).fit_transform(dataSet02[:,:-1])\n",
        "\n",
        "print(components)"
      ],
      "execution_count": null,
      "outputs": [
        {
          "output_type": "stream",
          "text": [
            "[[-2.68420713  0.32660731]\n",
            " [-2.71539062 -0.16955685]\n",
            " [-2.88981954 -0.13734561]\n",
            " [-2.7464372  -0.31112432]\n",
            " [-2.72859298  0.33392456]\n",
            " [-2.27989736  0.74778271]\n",
            " [-2.82089068 -0.08210451]\n",
            " [-2.62648199  0.17040535]\n",
            " [-2.88795857 -0.57079803]\n",
            " [-2.67384469 -0.1066917 ]\n",
            " [-2.50652679  0.65193501]\n",
            " [-2.61314272  0.02152063]\n",
            " [-2.78743398 -0.22774019]\n",
            " [-3.22520045 -0.50327991]\n",
            " [-2.64354322  1.1861949 ]\n",
            " [-2.38386932  1.34475434]\n",
            " [-2.6225262   0.81808967]\n",
            " [-2.64832273  0.31913667]\n",
            " [-2.19907796  0.87924409]\n",
            " [-2.58734619  0.52047364]\n",
            " [-2.3105317   0.39786782]\n",
            " [-2.54323491  0.44003175]\n",
            " [-3.21585769  0.14161557]\n",
            " [-2.30312854  0.10552268]\n",
            " [-2.35617109 -0.03120959]\n",
            " [-2.50791723 -0.13905634]\n",
            " [-2.469056    0.13788731]\n",
            " [-2.56239095  0.37468456]\n",
            " [-2.63982127  0.31929007]\n",
            " [-2.63284791 -0.19007583]\n",
            " [-2.58846205 -0.19739308]\n",
            " [-2.41007734  0.41808001]\n",
            " [-2.64763667  0.81998263]\n",
            " [-2.59715948  1.10002193]\n",
            " [-2.67384469 -0.1066917 ]\n",
            " [-2.86699985  0.0771931 ]\n",
            " [-2.62522846  0.60680001]\n",
            " [-2.67384469 -0.1066917 ]\n",
            " [-2.98184266 -0.48025005]\n",
            " [-2.59032303  0.23605934]\n",
            " [-2.77013891  0.27105942]\n",
            " [-2.85221108 -0.93286537]\n",
            " [-2.99829644 -0.33430757]\n",
            " [-2.4055141   0.19591726]\n",
            " [-2.20883295  0.44269603]\n",
            " [-2.71566519 -0.24268148]\n",
            " [-2.53757337  0.51036755]\n",
            " [-2.8403213  -0.22057634]\n",
            " [-2.54268576  0.58628103]\n",
            " [-2.70391231  0.11501085]\n",
            " [ 1.28479459  0.68543919]\n",
            " [ 0.93241075  0.31919809]\n",
            " [ 1.46406132  0.50418983]\n",
            " [ 0.18096721 -0.82560394]\n",
            " [ 1.08713449  0.07539039]\n",
            " [ 0.64043675 -0.41732348]\n",
            " [ 1.09522371  0.28389121]\n",
            " [-0.75146714 -1.00110751]\n",
            " [ 1.04329778  0.22895691]\n",
            " [-0.01019007 -0.72057487]\n",
            " [-0.5110862  -1.26249195]\n",
            " [ 0.51109806 -0.10228411]\n",
            " [ 0.26233576 -0.5478933 ]\n",
            " [ 0.98404455 -0.12436042]\n",
            " [-0.174864   -0.25181557]\n",
            " [ 0.92757294  0.46823621]\n",
            " [ 0.65959279 -0.35197629]\n",
            " [ 0.23454059 -0.33192183]\n",
            " [ 0.94236171 -0.54182226]\n",
            " [ 0.0432464  -0.58148945]\n",
            " [ 1.11624072 -0.08421401]\n",
            " [ 0.35678657 -0.06682383]\n",
            " [ 1.29646885 -0.32756152]\n",
            " [ 0.92050265 -0.18239036]\n",
            " [ 0.71400821  0.15037915]\n",
            " [ 0.89964086  0.32961098]\n",
            " [ 1.33104142  0.24466952]\n",
            " [ 1.55739627  0.26739258]\n",
            " [ 0.81245555 -0.16233157]\n",
            " [-0.30733476 -0.36508661]\n",
            " [-0.07034289 -0.70253793]\n",
            " [-0.19188449 -0.67749054]\n",
            " [ 0.13499495 -0.31170964]\n",
            " [ 1.37873698 -0.42120514]\n",
            " [ 0.58727485 -0.48328427]\n",
            " [ 0.8072055   0.19505396]\n",
            " [ 1.22042897  0.40803534]\n",
            " [ 0.81286779 -0.370679  ]\n",
            " [ 0.24519516 -0.26672804]\n",
            " [ 0.16451343 -0.67966147]\n",
            " [ 0.46303099 -0.66952655]\n",
            " [ 0.89016045 -0.03381244]\n",
            " [ 0.22887905 -0.40225762]\n",
            " [-0.70708128 -1.00842476]\n",
            " [ 0.35553304 -0.50321849]\n",
            " [ 0.33112695 -0.21118014]\n",
            " [ 0.37523823 -0.29162202]\n",
            " [ 0.64169028  0.01907118]\n",
            " [-0.90846333 -0.75156873]\n",
            " [ 0.29780791 -0.34701652]\n",
            " [ 2.53172698 -0.01184224]\n",
            " [ 1.41407223 -0.57492506]\n",
            " [ 2.61648461  0.34193529]\n",
            " [ 1.97081495 -0.18112569]\n",
            " [ 2.34975798 -0.04188255]\n",
            " [ 3.39687992  0.54716805]\n",
            " [ 0.51938325 -1.19135169]\n",
            " [ 2.9320051   0.35237701]\n",
            " [ 2.31967279 -0.24554817]\n",
            " [ 2.91813423  0.78038063]\n",
            " [ 1.66193495  0.2420384 ]\n",
            " [ 1.80234045 -0.21615461]\n",
            " [ 2.16537886  0.21528028]\n",
            " [ 1.34459422 -0.77641543]\n",
            " [ 1.5852673  -0.53930705]\n",
            " [ 1.90474358  0.11881899]\n",
            " [ 1.94924878  0.04073026]\n",
            " [ 3.48876538  1.17154454]\n",
            " [ 3.79468686  0.25326557]\n",
            " [ 1.29832982 -0.76101394]\n",
            " [ 2.42816726  0.37678197]\n",
            " [ 1.19809737 -0.60557896]\n",
            " [ 3.49926548  0.45677347]\n",
            " [ 1.38766825 -0.20403099]\n",
            " [ 2.27585365  0.33338653]\n",
            " [ 2.61419383  0.55836695]\n",
            " [ 1.25762518 -0.179137  ]\n",
            " [ 1.29066965 -0.11642525]\n",
            " [ 2.12285398 -0.21085488]\n",
            " [ 2.3875644   0.46251925]\n",
            " [ 2.84096093  0.37274259]\n",
            " [ 3.2323429   1.37052404]\n",
            " [ 2.15873837 -0.21832553]\n",
            " [ 1.4431026  -0.14380129]\n",
            " [ 1.77964011 -0.50146479]\n",
            " [ 3.07652162  0.68576444]\n",
            " [ 2.14498686  0.13890661]\n",
            " [ 1.90486293  0.04804751]\n",
            " [ 1.16885347 -0.1645025 ]\n",
            " [ 2.10765373  0.37148225]\n",
            " [ 2.31430339  0.18260885]\n",
            " [ 1.92245088  0.40927118]\n",
            " [ 1.41407223 -0.57492506]\n",
            " [ 2.56332271  0.2759745 ]\n",
            " [ 2.41939122  0.30350394]\n",
            " [ 1.94401705  0.18741522]\n",
            " [ 1.52566363 -0.37502085]\n",
            " [ 1.76404594  0.07851919]\n",
            " [ 1.90162908  0.11587675]\n",
            " [ 1.38966613 -0.28288671]]\n"
          ],
          "name": "stdout"
        }
      ]
    },
    {
      "cell_type": "markdown",
      "metadata": {
        "id": "vQWygi-AnPAx"
      },
      "source": [
        "##Plot the data using 1st & 2nd Principal Components"
      ]
    },
    {
      "cell_type": "code",
      "metadata": {
        "id": "Z963R39VnPAy",
        "colab": {
          "base_uri": "https://localhost:8080/",
          "height": 632
        },
        "outputId": "e4f1119f-c6f1-455e-edb6-fe5b5ecc9527"
      },
      "source": [
        "\n",
        "LABEL_COLOR_MAP = {'Iris-setosa' : 'blue',\n",
        "                   'Iris-versicolor': 'black',\n",
        "                   'Iris-virginica':'green'\n",
        "                  }\n",
        "\n",
        "label_color = [LABEL_COLOR_MAP[l] for l in dataSet02[:,4]]\n",
        "\n",
        "fig = plt.figure(figsize=(18, 10))\n",
        "ax = fig.add_subplot(121)\n",
        "ax.scatter(components[:,0],components[:,1], c=label_color, s=100)\n",
        "#plt.stem(components)\n",
        "\n",
        "ax = fig.add_subplot(122)\n",
        "ax.scatter(pca_data[:,0],pca_data[:,1], c=label_color, s=100)\n",
        "#plt.stem(components)\n",
        "plt.show()"
      ],
      "execution_count": null,
      "outputs": [
        {
          "output_type": "stream",
          "text": [
            "['blue', 'blue', 'blue', 'blue', 'blue', 'blue', 'blue', 'blue', 'blue', 'blue', 'blue', 'blue', 'blue', 'blue', 'blue', 'blue', 'blue', 'blue', 'blue', 'blue', 'blue', 'blue', 'blue', 'blue', 'blue', 'blue', 'blue', 'blue', 'blue', 'blue', 'blue', 'blue', 'blue', 'blue', 'blue', 'blue', 'blue', 'blue', 'blue', 'blue', 'blue', 'blue', 'blue', 'blue', 'blue', 'blue', 'blue', 'blue', 'blue', 'blue', 'black', 'black', 'black', 'black', 'black', 'black', 'black', 'black', 'black', 'black', 'black', 'black', 'black', 'black', 'black', 'black', 'black', 'black', 'black', 'black', 'black', 'black', 'black', 'black', 'black', 'black', 'black', 'black', 'black', 'black', 'black', 'black', 'black', 'black', 'black', 'black', 'black', 'black', 'black', 'black', 'black', 'black', 'black', 'black', 'black', 'black', 'black', 'black', 'black', 'black', 'green', 'green', 'green', 'green', 'green', 'green', 'green', 'green', 'green', 'green', 'green', 'green', 'green', 'green', 'green', 'green', 'green', 'green', 'green', 'green', 'green', 'green', 'green', 'green', 'green', 'green', 'green', 'green', 'green', 'green', 'green', 'green', 'green', 'green', 'green', 'green', 'green', 'green', 'green', 'green', 'green', 'green', 'green', 'green', 'green', 'green', 'green', 'green', 'green', 'green']\n"
          ],
          "name": "stdout"
        },
        {
          "output_type": "display_data",
          "data": {
            "image/png": "[encoded data removed]",
            "text/plain": [
              "<Figure size 1296x720 with 2 Axes>"
            ]
          },
          "metadata": {
            "tags": [],
            "needs_background": "light"
          }
        }
      ]
    },
    {
      "cell_type": "markdown",
      "metadata": {
        "id": "dQ75joBHnPA0"
      },
      "source": [
        "## Observation:"
      ]
    },
    {
      "cell_type": "markdown",
      "metadata": {
        "id": "5iUjwRknnPA0"
      },
      "source": [
        "1. In a lower dimensional subspace the samples are most spread along the new feature axes.\n",
        "2. Data spread is more along the  1st principal component as compared to second principal component.\n",
        "3. Cluster separation are not distinct."
      ]
    },
    {
      "cell_type": "markdown",
      "metadata": {
        "id": "mOVp2-sMNMjO"
      },
      "source": [
        "#-----------------------------------------------------------------------------------------"
      ]
    },
    {
      "cell_type": "markdown",
      "metadata": {
        "id": "ClPI2rrhzReW"
      },
      "source": [
        "###Split data into training and test datasets (training will be based on 70% of data)"
      ]
    },
    {
      "cell_type": "code",
      "metadata": {
        "id": "SruSzfgonPBE",
        "colab": {
          "base_uri": "https://localhost:8080/",
          "height": 68
        },
        "outputId": "4a5d9bf4-63b9-4801-e288-d3b27cbed910"
      },
      "source": [
        "\n",
        "from sklearn.model_selection import train_test_split\n",
        "\n",
        "X_train, X_test, y_train, y_test = train_test_split(dataSet02[:,:-1], dataSet02[:,4] , test_size=0.3, random_state=0)\n",
        "\n",
        "\n",
        "print('\\n \\n There are {} samples in the training set and {} samples in the test set'.format(X_train.shape[0], X_test.shape[0]))"
      ],
      "execution_count": null,
      "outputs": [
        {
          "output_type": "stream",
          "text": [
            "\n",
            " \n",
            " There are 105 samples in the training set and 45 samples in the test set\n"
          ],
          "name": "stdout"
        }
      ]
    },
    {
      "cell_type": "code",
      "metadata": {
        "id": "FO5ePfRMxC4N",
        "colab": {
          "base_uri": "https://localhost:8080/",
          "height": 34
        },
        "outputId": "dad55f7e-09e9-440a-fa99-337008bd956c"
      },
      "source": [
        "#Applying Knn\n",
        "from sklearn.neighbors import KNeighborsClassifier\n",
        "\n",
        "knn = KNeighborsClassifier(n_neighbors = 7, p = 2, metric='minkowski')\n",
        "knn.fit(X_train, y_train)\n",
        "\n",
        "\n",
        "print('The accuracy of the Knn classifier on test data is {:.2f}'.format(knn.score(X_test, y_test)))"
      ],
      "execution_count": null,
      "outputs": [
        {
          "output_type": "stream",
          "text": [
            "The accuracy of the Knn classifier on test data is 0.98\n"
          ],
          "name": "stdout"
        }
      ]
    },
    {
      "cell_type": "markdown",
      "metadata": {
        "id": "ZdADgf4hNIqS"
      },
      "source": [
        "#--------------------------------------------------------------------------------------------"
      ]
    },
    {
      "cell_type": "code",
      "metadata": {
        "id": "xoFkn6TszNis",
        "colab": {
          "base_uri": "https://localhost:8080/",
          "height": 68
        },
        "outputId": "592173e8-9f71-426c-85e4-bc8cca25d7e6"
      },
      "source": [
        "from sklearn.model_selection import train_test_split\n",
        "\n",
        "X_train01, X_test01, y_train01, y_test01 = train_test_split(components, dataSet02[:,4] , test_size=0.3, random_state=0)\n",
        "\n",
        "\n",
        "print(\"\\n \\n There are {} samples in the training set and {} samples in the test set\".format(X_train01.shape[0], X_test01.shape[0]))"
      ],
      "execution_count": null,
      "outputs": [
        {
          "output_type": "stream",
          "text": [
            "\n",
            " \n",
            " There are 105 samples in the training set and 45 samples in the test set\n"
          ],
          "name": "stdout"
        }
      ]
    },
    {
      "cell_type": "code",
      "metadata": {
        "id": "cnTzn9or0ztd",
        "colab": {
          "base_uri": "https://localhost:8080/",
          "height": 34
        },
        "outputId": "434736b3-0d1e-4769-d072-163e78421705"
      },
      "source": [
        "#Applying Knn\n",
        "from sklearn.neighbors import KNeighborsClassifier\n",
        "\n",
        "knn = KNeighborsClassifier(n_neighbors = 7, p = 2, metric='minkowski')\n",
        "knn.fit(X_train01, y_train01)\n",
        "\n",
        "print('The accuracy of the Knn classifier on test data is {:.2f}'.format(knn.score(X_test01, y_test01)))"
      ],
      "execution_count": null,
      "outputs": [
        {
          "output_type": "stream",
          "text": [
            "The accuracy of the Knn classifier on test data is 0.98\n"
          ],
          "name": "stdout"
        }
      ]
    }
  ]
}